{
 "cells": [
  {
   "cell_type": "markdown",
   "metadata": {},
   "source": [
    "<h1>Loan Approval Prediction Project</h1>"
   ]
  },
  {
   "cell_type": "markdown",
   "metadata": {},
   "source": [
    "<h2>Lifecycle of Machine Learning Project</h2>"
   ]
  },
  {
   "cell_type": "markdown",
   "metadata": {},
   "source": [
    "1. Understanding of problem Statement\n",
    "2. Data Collection\n",
    "3. Data checks for performance\n",
    "4. Exploratory Data Analysis\n",
    "5. Data Pre Processing\n",
    "6. Model Training\n",
    "7. Choose Best Model"
   ]
  },
  {
   "cell_type": "markdown",
   "metadata": {},
   "source": [
    "<h3>1. Understanding of Problem Statment</h3>"
   ]
  },
  {
   "cell_type": "markdown",
   "metadata": {},
   "source": [
    "The company seeks to automate (in real time) the loan approval procedure based on information given by customers while filling out an online application form. It is expected that the development of ML models that can help the company predict loan approval in accelerating decision-making process for determining whether an applicant is eligible for a loan or not."
   ]
  },
  {
   "cell_type": "markdown",
   "metadata": {},
   "source": [
    "<h3>2. Data Collection</h3>"
   ]
  },
  {
   "cell_type": "markdown",
   "metadata": {},
   "source": [
    "Data is collected from AWS"
   ]
  },
  {
   "cell_type": "code",
   "execution_count": 116,
   "metadata": {},
   "outputs": [],
   "source": [
    "import pandas as pd\n",
    "import numpy as np\n",
    "import matplotlib.pyplot as plt\n",
    "%matplotlib inline\n",
    "import seaborn as sns\n",
    "import os\n",
    "import warnings\n",
    "warnings.filterwarnings('ignore')\n"
   ]
  },
  {
   "cell_type": "code",
   "execution_count": 117,
   "metadata": {},
   "outputs": [],
   "source": [
    "df = pd.read_csv(r\"D:\\DS_Stats\\E2E_DS_Propjects\\Loan-Approval-Prediction-Project\\raw_data\\LoansTrainingSetV2 (1).csv\")"
   ]
  },
  {
   "cell_type": "code",
   "execution_count": 118,
   "metadata": {},
   "outputs": [
    {
     "data": {
      "text/plain": [
       "(111107, 19)"
      ]
     },
     "execution_count": 118,
     "metadata": {},
     "output_type": "execute_result"
    }
   ],
   "source": [
    "df.shape"
   ]
  },
  {
   "cell_type": "markdown",
   "metadata": {},
   "source": [
    "The data consists of 111107 rows and 19 columns"
   ]
  },
  {
   "cell_type": "code",
   "execution_count": 119,
   "metadata": {},
   "outputs": [
    {
     "data": {
      "text/html": [
       "<div>\n",
       "<style scoped>\n",
       "    .dataframe tbody tr th:only-of-type {\n",
       "        vertical-align: middle;\n",
       "    }\n",
       "\n",
       "    .dataframe tbody tr th {\n",
       "        vertical-align: top;\n",
       "    }\n",
       "\n",
       "    .dataframe thead th {\n",
       "        text-align: right;\n",
       "    }\n",
       "</style>\n",
       "<table border=\"1\" class=\"dataframe\">\n",
       "  <thead>\n",
       "    <tr style=\"text-align: right;\">\n",
       "      <th></th>\n",
       "      <th>Loan ID</th>\n",
       "      <th>Customer ID</th>\n",
       "      <th>Loan Status</th>\n",
       "      <th>Current Loan Amount</th>\n",
       "      <th>Term</th>\n",
       "      <th>Credit Score</th>\n",
       "      <th>Years in current job</th>\n",
       "      <th>Home Ownership</th>\n",
       "      <th>Annual Income</th>\n",
       "      <th>Purpose</th>\n",
       "      <th>Monthly Debt</th>\n",
       "      <th>Years of Credit History</th>\n",
       "      <th>Months since last delinquent</th>\n",
       "      <th>Number of Open Accounts</th>\n",
       "      <th>Number of Credit Problems</th>\n",
       "      <th>Current Credit Balance</th>\n",
       "      <th>Maximum Open Credit</th>\n",
       "      <th>Bankruptcies</th>\n",
       "      <th>Tax Liens</th>\n",
       "    </tr>\n",
       "  </thead>\n",
       "  <tbody>\n",
       "    <tr>\n",
       "      <th>0</th>\n",
       "      <td>6cf51492-02a2-423e-b93d-676f05b9ad53</td>\n",
       "      <td>7c202b37-2add-44e8-9aea-d5b119aea935</td>\n",
       "      <td>Loan Refused</td>\n",
       "      <td>12232</td>\n",
       "      <td>Short Term</td>\n",
       "      <td>7280.0</td>\n",
       "      <td>&lt; 1 year</td>\n",
       "      <td>Rent</td>\n",
       "      <td>46643.0</td>\n",
       "      <td>Debt Consolidation</td>\n",
       "      <td>777.39</td>\n",
       "      <td>18.0</td>\n",
       "      <td>10.0</td>\n",
       "      <td>12</td>\n",
       "      <td>0</td>\n",
       "      <td>6762</td>\n",
       "      <td>7946</td>\n",
       "      <td>0.0</td>\n",
       "      <td>0.0</td>\n",
       "    </tr>\n",
       "    <tr>\n",
       "      <th>1</th>\n",
       "      <td>552e7ade-4292-4354-9ff9-c48031697d72</td>\n",
       "      <td>e7217b0a-07ac-47dd-b379-577b5a35b7c6</td>\n",
       "      <td>Loan Refused</td>\n",
       "      <td>25014</td>\n",
       "      <td>Long Term</td>\n",
       "      <td>7330.0</td>\n",
       "      <td>10+ years</td>\n",
       "      <td>Home Mortgage</td>\n",
       "      <td>81099.0</td>\n",
       "      <td>Debt Consolidation</td>\n",
       "      <td>892.09</td>\n",
       "      <td>26.7</td>\n",
       "      <td>NaN</td>\n",
       "      <td>14</td>\n",
       "      <td>0</td>\n",
       "      <td>35706</td>\n",
       "      <td>77961</td>\n",
       "      <td>0.0</td>\n",
       "      <td>0.0</td>\n",
       "    </tr>\n",
       "    <tr>\n",
       "      <th>2</th>\n",
       "      <td>9b5e32b3-8d76-4801-afc8-d729d5a2e6b9</td>\n",
       "      <td>0a62fc41-16c8-40b5-92ff-9e4b763ce714</td>\n",
       "      <td>Loan Refused</td>\n",
       "      <td>16117</td>\n",
       "      <td>Short Term</td>\n",
       "      <td>7240.0</td>\n",
       "      <td>9 years</td>\n",
       "      <td>Home Mortgage</td>\n",
       "      <td>60438.0</td>\n",
       "      <td>Home Improvements</td>\n",
       "      <td>1244.02</td>\n",
       "      <td>16.7</td>\n",
       "      <td>32.0</td>\n",
       "      <td>11</td>\n",
       "      <td>1</td>\n",
       "      <td>11275</td>\n",
       "      <td>14815</td>\n",
       "      <td>1.0</td>\n",
       "      <td>0.0</td>\n",
       "    </tr>\n",
       "    <tr>\n",
       "      <th>3</th>\n",
       "      <td>5419b7c7-ac11-4be2-a8a7-b131fb6d6dbe</td>\n",
       "      <td>30f36c59-5182-4482-8bbb-5b736849ae43</td>\n",
       "      <td>Loan Refused</td>\n",
       "      <td>11716</td>\n",
       "      <td>Short Term</td>\n",
       "      <td>7400.0</td>\n",
       "      <td>3 years</td>\n",
       "      <td>Rent</td>\n",
       "      <td>34171.0</td>\n",
       "      <td>Debt Consolidation</td>\n",
       "      <td>990.94</td>\n",
       "      <td>10.0</td>\n",
       "      <td>NaN</td>\n",
       "      <td>21</td>\n",
       "      <td>0</td>\n",
       "      <td>7009</td>\n",
       "      <td>43533</td>\n",
       "      <td>0.0</td>\n",
       "      <td>0.0</td>\n",
       "    </tr>\n",
       "    <tr>\n",
       "      <th>4</th>\n",
       "      <td>1450910f-9495-4fc9-afaf-9bdf4b9821df</td>\n",
       "      <td>70c26012-bba5-42c0-8dcb-75295ada31bb</td>\n",
       "      <td>Loan Refused</td>\n",
       "      <td>9789</td>\n",
       "      <td>Long Term</td>\n",
       "      <td>6860.0</td>\n",
       "      <td>10+ years</td>\n",
       "      <td>Home Mortgage</td>\n",
       "      <td>47003.0</td>\n",
       "      <td>Home Improvements</td>\n",
       "      <td>503.71</td>\n",
       "      <td>16.7</td>\n",
       "      <td>25.0</td>\n",
       "      <td>13</td>\n",
       "      <td>1</td>\n",
       "      <td>16913</td>\n",
       "      <td>19553</td>\n",
       "      <td>1.0</td>\n",
       "      <td>0.0</td>\n",
       "    </tr>\n",
       "  </tbody>\n",
       "</table>\n",
       "</div>"
      ],
      "text/plain": [
       "                                Loan ID                           Customer ID  \\\n",
       "0  6cf51492-02a2-423e-b93d-676f05b9ad53  7c202b37-2add-44e8-9aea-d5b119aea935   \n",
       "1  552e7ade-4292-4354-9ff9-c48031697d72  e7217b0a-07ac-47dd-b379-577b5a35b7c6   \n",
       "2  9b5e32b3-8d76-4801-afc8-d729d5a2e6b9  0a62fc41-16c8-40b5-92ff-9e4b763ce714   \n",
       "3  5419b7c7-ac11-4be2-a8a7-b131fb6d6dbe  30f36c59-5182-4482-8bbb-5b736849ae43   \n",
       "4  1450910f-9495-4fc9-afaf-9bdf4b9821df  70c26012-bba5-42c0-8dcb-75295ada31bb   \n",
       "\n",
       "    Loan Status  Current Loan Amount        Term  Credit Score  \\\n",
       "0  Loan Refused                12232  Short Term        7280.0   \n",
       "1  Loan Refused                25014   Long Term        7330.0   \n",
       "2  Loan Refused                16117  Short Term        7240.0   \n",
       "3  Loan Refused                11716  Short Term        7400.0   \n",
       "4  Loan Refused                 9789   Long Term        6860.0   \n",
       "\n",
       "  Years in current job Home Ownership  Annual Income             Purpose  \\\n",
       "0             < 1 year           Rent        46643.0  Debt Consolidation   \n",
       "1            10+ years  Home Mortgage        81099.0  Debt Consolidation   \n",
       "2              9 years  Home Mortgage        60438.0   Home Improvements   \n",
       "3              3 years           Rent        34171.0  Debt Consolidation   \n",
       "4            10+ years  Home Mortgage        47003.0   Home Improvements   \n",
       "\n",
       "  Monthly Debt  Years of Credit History  Months since last delinquent  \\\n",
       "0       777.39                     18.0                          10.0   \n",
       "1       892.09                     26.7                           NaN   \n",
       "2      1244.02                     16.7                          32.0   \n",
       "3       990.94                     10.0                           NaN   \n",
       "4       503.71                     16.7                          25.0   \n",
       "\n",
       "   Number of Open Accounts  Number of Credit Problems  Current Credit Balance  \\\n",
       "0                       12                          0                    6762   \n",
       "1                       14                          0                   35706   \n",
       "2                       11                          1                   11275   \n",
       "3                       21                          0                    7009   \n",
       "4                       13                          1                   16913   \n",
       "\n",
       "  Maximum Open Credit  Bankruptcies  Tax Liens  \n",
       "0                7946           0.0        0.0  \n",
       "1               77961           0.0        0.0  \n",
       "2               14815           1.0        0.0  \n",
       "3               43533           0.0        0.0  \n",
       "4               19553           1.0        0.0  "
      ]
     },
     "execution_count": 119,
     "metadata": {},
     "output_type": "execute_result"
    }
   ],
   "source": [
    "df.head()"
   ]
  },
  {
   "cell_type": "code",
   "execution_count": 120,
   "metadata": {},
   "outputs": [
    {
     "name": "stdout",
     "output_type": "stream",
     "text": [
      "<class 'pandas.core.frame.DataFrame'>\n",
      "RangeIndex: 111107 entries, 0 to 111106\n",
      "Data columns (total 19 columns):\n",
      " #   Column                        Non-Null Count   Dtype  \n",
      "---  ------                        --------------   -----  \n",
      " 0   Loan ID                       111107 non-null  object \n",
      " 1   Customer ID                   111107 non-null  object \n",
      " 2   Loan Status                   111107 non-null  object \n",
      " 3   Current Loan Amount           111107 non-null  int64  \n",
      " 4   Term                          111107 non-null  object \n",
      " 5   Credit Score                  89769 non-null   float64\n",
      " 6   Years in current job          106414 non-null  object \n",
      " 7   Home Ownership                111107 non-null  object \n",
      " 8   Annual Income                 89769 non-null   float64\n",
      " 9   Purpose                       111107 non-null  object \n",
      " 10  Monthly Debt                  111107 non-null  object \n",
      " 11  Years of Credit History       111107 non-null  float64\n",
      " 12  Months since last delinquent  52104 non-null   float64\n",
      " 13  Number of Open Accounts       111107 non-null  int64  \n",
      " 14  Number of Credit Problems     111107 non-null  int64  \n",
      " 15  Current Credit Balance        111107 non-null  int64  \n",
      " 16  Maximum Open Credit           111107 non-null  object \n",
      " 17  Bankruptcies                  110879 non-null  float64\n",
      " 18  Tax Liens                     111096 non-null  float64\n",
      "dtypes: float64(6), int64(4), object(9)\n",
      "memory usage: 16.1+ MB\n"
     ]
    }
   ],
   "source": [
    "df.info()"
   ]
  },
  {
   "cell_type": "markdown",
   "metadata": {},
   "source": [
    "The data has 9 Categorical Features and 10 Numerical Features"
   ]
  },
  {
   "cell_type": "markdown",
   "metadata": {},
   "source": [
    "<h3>3. Performing Data Check</h3>\n",
    "\n",
    "- Check for missing values\n",
    "- Check Duplicates\n",
    "- Check Datatypes\n",
    "- Check number of unique values in a column\n",
    "- Check statistics of data set\n",
    "- Check Various categories present in different categorical columns"
   ]
  },
  {
   "cell_type": "markdown",
   "metadata": {},
   "source": [
    "<h4> 3.1 Check for Missing Values"
   ]
  },
  {
   "cell_type": "code",
   "execution_count": 121,
   "metadata": {},
   "outputs": [
    {
     "data": {
      "text/plain": [
       "<Axes: >"
      ]
     },
     "execution_count": 121,
     "metadata": {},
     "output_type": "execute_result"
    },
    {
     "data": {
      "image/png": "[encoded data removed]",
      "text/plain": [
       "<Figure size 640x480 with 1 Axes>"
      ]
     },
     "metadata": {},
     "output_type": "display_data"
    }
   ],
   "source": [
    "sns.heatmap(data=df.isnull(),cbar=False,cmap='viridis',yticklabels=False)"
   ]
  },
  {
   "cell_type": "code",
   "execution_count": 122,
   "metadata": {},
   "outputs": [
    {
     "name": "stdout",
     "output_type": "stream",
     "text": [
      "Credit Score                    19.204911\n",
      "Years in current job             4.223856\n",
      "Annual Income                   19.204911\n",
      "Months since last delinquent    53.104665\n",
      "Bankruptcies                     0.205208\n",
      "Tax Liens                        0.009900\n",
      "dtype: float64\n"
     ]
    }
   ],
   "source": [
    "null_percentage= df.isnull().sum() / df.shape[0] * 100\n",
    "columns_with_null = null_percentage[null_percentage > 0]\n",
    "print(columns_with_null)"
   ]
  },
  {
   "cell_type": "markdown",
   "metadata": {},
   "source": [
    "We can see that 6 columns have null valus with null percentage ranging from 0.009% to 53%"
   ]
  },
  {
   "cell_type": "markdown",
   "metadata": {},
   "source": [
    "<h4>3.2 Check Duplicates"
   ]
  },
  {
   "cell_type": "code",
   "execution_count": 123,
   "metadata": {},
   "outputs": [
    {
     "data": {
      "text/plain": [
       "5869"
      ]
     },
     "execution_count": 123,
     "metadata": {},
     "output_type": "execute_result"
    }
   ],
   "source": [
    "df.duplicated().sum()"
   ]
  },
  {
   "cell_type": "markdown",
   "metadata": {},
   "source": [
    "There 5869 rows with dupliate values where all the compones in the entry is duplicate of another entry"
   ]
  },
  {
   "cell_type": "code",
   "execution_count": 124,
   "metadata": {},
   "outputs": [
    {
     "data": {
      "text/plain": [
       "(22197, 19)"
      ]
     },
     "execution_count": 124,
     "metadata": {},
     "output_type": "execute_result"
    }
   ],
   "source": [
    "df_col_2_duplicate = df[df['Customer ID'].duplicated()==True]\n",
    "df_col_2_duplicate.shape"
   ]
  },
  {
   "cell_type": "code",
   "execution_count": 125,
   "metadata": {},
   "outputs": [
    {
     "data": {
      "text/plain": [
       "(22197, 19)"
      ]
     },
     "execution_count": 125,
     "metadata": {},
     "output_type": "execute_result"
    }
   ],
   "source": [
    "df_col_1_duplicate = df[df['Loan ID'].duplicated()==True]\n",
    "df_col_1_duplicate.shape"
   ]
  },
  {
   "cell_type": "markdown",
   "metadata": {},
   "source": [
    "On deeper analysis it was found there are 22197 duplicate entries with same Loan ID and Customer ID. This needs to be removed to reduce overfitting and bias in model. "
   ]
  },
  {
   "cell_type": "code",
   "execution_count": 126,
   "metadata": {},
   "outputs": [
    {
     "data": {
      "text/plain": [
       "(111107, 19)"
      ]
     },
     "execution_count": 126,
     "metadata": {},
     "output_type": "execute_result"
    }
   ],
   "source": [
    "df.shape"
   ]
  },
  {
   "cell_type": "code",
   "execution_count": 127,
   "metadata": {},
   "outputs": [],
   "source": [
    "\n",
    "df_duplicates_removed = df.drop_duplicates(subset='Loan ID',keep='first',inplace=False)"
   ]
  },
  {
   "cell_type": "code",
   "execution_count": 128,
   "metadata": {},
   "outputs": [
    {
     "data": {
      "text/plain": [
       "(88910, 19)"
      ]
     },
     "execution_count": 128,
     "metadata": {},
     "output_type": "execute_result"
    }
   ],
   "source": [
    "df_duplicates_removed.shape"
   ]
  },
  {
   "cell_type": "markdown",
   "metadata": {},
   "source": [
    "22197 duplicate records removed from the data"
   ]
  },
  {
   "cell_type": "markdown",
   "metadata": {},
   "source": [
    "<h4>3.3 Check Datatypes of Features"
   ]
  },
  {
   "cell_type": "code",
   "execution_count": 129,
   "metadata": {},
   "outputs": [
    {
     "name": "stdout",
     "output_type": "stream",
     "text": [
      "Loan ID                          object\n",
      "Customer ID                      object\n",
      "Loan Status                      object\n",
      "Current Loan Amount               int64\n",
      "Term                             object\n",
      "Credit Score                    float64\n",
      "Years in current job             object\n",
      "Home Ownership                   object\n",
      "Annual Income                   float64\n",
      "Purpose                          object\n",
      "Monthly Debt                     object\n",
      "Years of Credit History         float64\n",
      "Months since last delinquent    float64\n",
      "Number of Open Accounts           int64\n",
      "Number of Credit Problems         int64\n",
      "Current Credit Balance            int64\n",
      "Maximum Open Credit              object\n",
      "Bankruptcies                    float64\n",
      "Tax Liens                       float64\n",
      "dtype: object\n"
     ]
    }
   ],
   "source": [
    "column_datatypes = df_duplicates_removed.dtypes\n",
    "print(column_datatypes)\n"
   ]
  },
  {
   "cell_type": "code",
   "execution_count": 130,
   "metadata": {},
   "outputs": [],
   "source": [
    "categorical_features = [feature for feature in df_duplicates_removed.columns if df_duplicates_removed[feature].dtype =='O' ]\n",
    "numerical_features = [feature for feature in df_duplicates_removed.columns if df_duplicates_removed[feature].dtype !='O' ]"
   ]
  },
  {
   "cell_type": "code",
   "execution_count": 131,
   "metadata": {},
   "outputs": [
    {
     "name": "stdout",
     "output_type": "stream",
     "text": [
      "We have 9 Categorical Feature which are : ['Loan ID', 'Customer ID', 'Loan Status', 'Term', 'Years in current job', 'Home Ownership', 'Purpose', 'Monthly Debt', 'Maximum Open Credit']\n",
      "\n",
      "We have 10 Categorical Feature which are : ['Current Loan Amount', 'Credit Score', 'Annual Income', 'Years of Credit History', 'Months since last delinquent', 'Number of Open Accounts', 'Number of Credit Problems', 'Current Credit Balance', 'Bankruptcies', 'Tax Liens']\n"
     ]
    }
   ],
   "source": [
    "print(f'We have {len(categorical_features)} Categorical Feature which are : {categorical_features}')\n",
    "print(f'\\nWe have {len(numerical_features)} Categorical Feature which are : {numerical_features}')"
   ]
  },
  {
   "cell_type": "markdown",
   "metadata": {},
   "source": [
    "<h4>3.4 Check for Unique Values in Feature"
   ]
  },
  {
   "cell_type": "code",
   "execution_count": 132,
   "metadata": {},
   "outputs": [
    {
     "data": {
      "text/plain": [
       "Loan ID                         88910\n",
       "Customer ID                     88910\n",
       "Loan Status                         2\n",
       "Current Loan Amount             22081\n",
       "Term                                2\n",
       "Credit Score                      326\n",
       "Years in current job               11\n",
       "Home Ownership                      4\n",
       "Annual Income                   36344\n",
       "Purpose                            16\n",
       "Monthly Debt                    76609\n",
       "Years of Credit History           508\n",
       "Months since last delinquent      116\n",
       "Number of Open Accounts            52\n",
       "Number of Credit Problems          14\n",
       "Current Credit Balance          33716\n",
       "Maximum Open Credit             58216\n",
       "Bankruptcies                        8\n",
       "Tax Liens                          13\n",
       "dtype: int64"
      ]
     },
     "execution_count": 132,
     "metadata": {},
     "output_type": "execute_result"
    }
   ],
   "source": [
    "df_duplicates_removed.nunique()"
   ]
  },
  {
   "cell_type": "markdown",
   "metadata": {},
   "source": [
    "<h4>3.5 Check Statistic for Numerical Features"
   ]
  },
  {
   "cell_type": "code",
   "execution_count": 133,
   "metadata": {},
   "outputs": [
    {
     "data": {
      "text/html": [
       "<div>\n",
       "<style scoped>\n",
       "    .dataframe tbody tr th:only-of-type {\n",
       "        vertical-align: middle;\n",
       "    }\n",
       "\n",
       "    .dataframe tbody tr th {\n",
       "        vertical-align: top;\n",
       "    }\n",
       "\n",
       "    .dataframe thead th {\n",
       "        text-align: right;\n",
       "    }\n",
       "</style>\n",
       "<table border=\"1\" class=\"dataframe\">\n",
       "  <thead>\n",
       "    <tr style=\"text-align: right;\">\n",
       "      <th></th>\n",
       "      <th>Current Loan Amount</th>\n",
       "      <th>Credit Score</th>\n",
       "      <th>Annual Income</th>\n",
       "      <th>Years of Credit History</th>\n",
       "      <th>Months since last delinquent</th>\n",
       "      <th>Number of Open Accounts</th>\n",
       "      <th>Number of Credit Problems</th>\n",
       "      <th>Current Credit Balance</th>\n",
       "      <th>Bankruptcies</th>\n",
       "      <th>Tax Liens</th>\n",
       "    </tr>\n",
       "  </thead>\n",
       "  <tbody>\n",
       "    <tr>\n",
       "      <th>count</th>\n",
       "      <td>8.891000e+04</td>\n",
       "      <td>67572.000000</td>\n",
       "      <td>6.757200e+04</td>\n",
       "      <td>88910.000000</td>\n",
       "      <td>40404.000000</td>\n",
       "      <td>88910.000000</td>\n",
       "      <td>88910.000000</td>\n",
       "      <td>8.891000e+04</td>\n",
       "      <td>88718.000000</td>\n",
       "      <td>88902.000000</td>\n",
       "    </tr>\n",
       "    <tr>\n",
       "      <th>mean</th>\n",
       "      <td>1.433878e+07</td>\n",
       "      <td>1199.199580</td>\n",
       "      <td>7.234575e+04</td>\n",
       "      <td>18.315313</td>\n",
       "      <td>35.080289</td>\n",
       "      <td>11.110348</td>\n",
       "      <td>0.160477</td>\n",
       "      <td>1.543593e+04</td>\n",
       "      <td>0.112672</td>\n",
       "      <td>0.028222</td>\n",
       "    </tr>\n",
       "    <tr>\n",
       "      <th>std</th>\n",
       "      <td>3.502996e+07</td>\n",
       "      <td>1680.813805</td>\n",
       "      <td>5.836101e+04</td>\n",
       "      <td>7.049175</td>\n",
       "      <td>22.008583</td>\n",
       "      <td>4.978461</td>\n",
       "      <td>0.473746</td>\n",
       "      <td>1.965873e+04</td>\n",
       "      <td>0.343300</td>\n",
       "      <td>0.257533</td>\n",
       "    </tr>\n",
       "    <tr>\n",
       "      <th>min</th>\n",
       "      <td>4.910000e+02</td>\n",
       "      <td>585.000000</td>\n",
       "      <td>4.033000e+03</td>\n",
       "      <td>3.600000</td>\n",
       "      <td>0.000000</td>\n",
       "      <td>0.000000</td>\n",
       "      <td>0.000000</td>\n",
       "      <td>0.000000e+00</td>\n",
       "      <td>0.000000</td>\n",
       "      <td>0.000000</td>\n",
       "    </tr>\n",
       "    <tr>\n",
       "      <th>25%</th>\n",
       "      <td>8.283000e+03</td>\n",
       "      <td>714.000000</td>\n",
       "      <td>4.458600e+04</td>\n",
       "      <td>13.500000</td>\n",
       "      <td>16.000000</td>\n",
       "      <td>8.000000</td>\n",
       "      <td>0.000000</td>\n",
       "      <td>5.949000e+03</td>\n",
       "      <td>0.000000</td>\n",
       "      <td>0.000000</td>\n",
       "    </tr>\n",
       "    <tr>\n",
       "      <th>50%</th>\n",
       "      <td>1.435500e+04</td>\n",
       "      <td>733.000000</td>\n",
       "      <td>6.149400e+04</td>\n",
       "      <td>17.000000</td>\n",
       "      <td>32.000000</td>\n",
       "      <td>10.000000</td>\n",
       "      <td>0.000000</td>\n",
       "      <td>1.103900e+04</td>\n",
       "      <td>0.000000</td>\n",
       "      <td>0.000000</td>\n",
       "    </tr>\n",
       "    <tr>\n",
       "      <th>75%</th>\n",
       "      <td>2.448500e+04</td>\n",
       "      <td>744.000000</td>\n",
       "      <td>8.675025e+04</td>\n",
       "      <td>21.800000</td>\n",
       "      <td>51.000000</td>\n",
       "      <td>14.000000</td>\n",
       "      <td>0.000000</td>\n",
       "      <td>1.930100e+04</td>\n",
       "      <td>0.000000</td>\n",
       "      <td>0.000000</td>\n",
       "    </tr>\n",
       "    <tr>\n",
       "      <th>max</th>\n",
       "      <td>1.000000e+08</td>\n",
       "      <td>7510.000000</td>\n",
       "      <td>8.713547e+06</td>\n",
       "      <td>70.500000</td>\n",
       "      <td>176.000000</td>\n",
       "      <td>76.000000</td>\n",
       "      <td>15.000000</td>\n",
       "      <td>1.730472e+06</td>\n",
       "      <td>7.000000</td>\n",
       "      <td>15.000000</td>\n",
       "    </tr>\n",
       "  </tbody>\n",
       "</table>\n",
       "</div>"
      ],
      "text/plain": [
       "       Current Loan Amount  Credit Score  Annual Income  \\\n",
       "count         8.891000e+04  67572.000000   6.757200e+04   \n",
       "mean          1.433878e+07   1199.199580   7.234575e+04   \n",
       "std           3.502996e+07   1680.813805   5.836101e+04   \n",
       "min           4.910000e+02    585.000000   4.033000e+03   \n",
       "25%           8.283000e+03    714.000000   4.458600e+04   \n",
       "50%           1.435500e+04    733.000000   6.149400e+04   \n",
       "75%           2.448500e+04    744.000000   8.675025e+04   \n",
       "max           1.000000e+08   7510.000000   8.713547e+06   \n",
       "\n",
       "       Years of Credit History  Months since last delinquent  \\\n",
       "count             88910.000000                  40404.000000   \n",
       "mean                 18.315313                     35.080289   \n",
       "std                   7.049175                     22.008583   \n",
       "min                   3.600000                      0.000000   \n",
       "25%                  13.500000                     16.000000   \n",
       "50%                  17.000000                     32.000000   \n",
       "75%                  21.800000                     51.000000   \n",
       "max                  70.500000                    176.000000   \n",
       "\n",
       "       Number of Open Accounts  Number of Credit Problems  \\\n",
       "count             88910.000000               88910.000000   \n",
       "mean                 11.110348                   0.160477   \n",
       "std                   4.978461                   0.473746   \n",
       "min                   0.000000                   0.000000   \n",
       "25%                   8.000000                   0.000000   \n",
       "50%                  10.000000                   0.000000   \n",
       "75%                  14.000000                   0.000000   \n",
       "max                  76.000000                  15.000000   \n",
       "\n",
       "       Current Credit Balance  Bankruptcies     Tax Liens  \n",
       "count            8.891000e+04  88718.000000  88902.000000  \n",
       "mean             1.543593e+04      0.112672      0.028222  \n",
       "std              1.965873e+04      0.343300      0.257533  \n",
       "min              0.000000e+00      0.000000      0.000000  \n",
       "25%              5.949000e+03      0.000000      0.000000  \n",
       "50%              1.103900e+04      0.000000      0.000000  \n",
       "75%              1.930100e+04      0.000000      0.000000  \n",
       "max              1.730472e+06      7.000000     15.000000  "
      ]
     },
     "execution_count": 133,
     "metadata": {},
     "output_type": "execute_result"
    }
   ],
   "source": [
    "df_duplicates_removed.describe()"
   ]
  },
  {
   "cell_type": "markdown",
   "metadata": {},
   "source": [
    "<h4>3.6 Check for various categories present in categorical feature"
   ]
  },
  {
   "cell_type": "code",
   "execution_count": 134,
   "metadata": {},
   "outputs": [
    {
     "name": "stdout",
     "output_type": "stream",
     "text": [
      "\n",
      "Categories in Loan ID are ['6cf51492-02a2-423e-b93d-676f05b9ad53'\n",
      " '552e7ade-4292-4354-9ff9-c48031697d72'\n",
      " '9b5e32b3-8d76-4801-afc8-d729d5a2e6b9' ...\n",
      " 'd43b4c9c-8cb9-4cff-b86c-84b4f2c6aa13'\n",
      " 'e3ffa0d5-5164-4815-9231-7ae5e0887dfd'\n",
      " '26e3e4f3-7442-4b68-bc2b-a9c4567f67ce']\n",
      "\n",
      "Categories in Customer ID are ['7c202b37-2add-44e8-9aea-d5b119aea935'\n",
      " 'e7217b0a-07ac-47dd-b379-577b5a35b7c6'\n",
      " '0a62fc41-16c8-40b5-92ff-9e4b763ce714' ...\n",
      " '5dc48d5a-36e9-4e52-9568-d81f218386b0'\n",
      " '2bfeb5be-6441-4e2d-be6e-20a138127d93'\n",
      " '5514bfcc-e996-4d9b-80d4-9ea66dfa1ac5']\n",
      "\n",
      "Categories in Loan Status are ['Loan Refused' 'Loan Given']\n",
      "\n",
      "Categories in Term are ['Short Term' 'Long Term']\n",
      "\n",
      "Categories in Years in current job are ['< 1 year' '10+ years' '9 years' '3 years' '2 years' '7 years' '6 years'\n",
      " '1 year' '5 years' '4 years' '8 years' nan]\n",
      "\n",
      "Categories in Home Ownership are ['Rent' 'Home Mortgage' 'Own Home' 'HaveMortgage']\n",
      "\n",
      "Categories in Purpose are ['Debt Consolidation' 'Home Improvements' 'other' 'Business Loan'\n",
      " 'small_business' 'Other' 'moving' 'Buy a Car' 'Medical Bills' 'Buy House'\n",
      " 'Take a Trip' 'vacation' 'major_purchase' 'Educational Expenses'\n",
      " 'wedding' 'renewable_energy']\n",
      "\n",
      "Categories in Monthly Debt are ['777.39' '892.09' '1244.02' ... 2508.63 818.2 360.17]\n",
      "\n",
      "Categories in Maximum Open Credit are ['7946' '77961' '14815' ... 32766 53374 21124]\n"
     ]
    }
   ],
   "source": [
    "for feature in categorical_features:\n",
    "    unique_category = df_duplicates_removed[feature].unique()\n",
    "    print(f'\\nCategories in {feature} are {unique_category}')"
   ]
  },
  {
   "cell_type": "markdown",
   "metadata": {},
   "source": []
  },
  {
   "cell_type": "markdown",
   "metadata": {},
   "source": [
    "It seems Monthly Debt and Maximum Open Credit have numerical values but the datatype is object. We will convert these feature to float datatype"
   ]
  },
  {
   "cell_type": "code",
   "execution_count": 135,
   "metadata": {},
   "outputs": [],
   "source": [
    "df_duplicates_removed['Monthly Debt'] = df_duplicates_removed['Monthly Debt'].str.replace('$','')"
   ]
  },
  {
   "cell_type": "code",
   "execution_count": 136,
   "metadata": {},
   "outputs": [],
   "source": [
    "df_duplicates_removed['Monthly Debt'] = df_duplicates_removed['Monthly Debt'].astype(float)"
   ]
  },
  {
   "cell_type": "code",
   "execution_count": 137,
   "metadata": {},
   "outputs": [],
   "source": [
    "df_duplicates_removed['Maximum Open Credit'] = pd.to_numeric(df_duplicates_removed['Maximum Open Credit'], errors='coerce')"
   ]
  },
  {
   "cell_type": "code",
   "execution_count": 138,
   "metadata": {},
   "outputs": [],
   "source": [
    "df_duplicates_removed['Maximum Open Credit'] = df_duplicates_removed['Maximum Open Credit'].astype(float)"
   ]
  },
  {
   "cell_type": "code",
   "execution_count": 139,
   "metadata": {},
   "outputs": [
    {
     "name": "stdout",
     "output_type": "stream",
     "text": [
      "We have 7 Categorical Feature which are : ['Loan ID', 'Customer ID', 'Loan Status', 'Term', 'Years in current job', 'Home Ownership', 'Purpose']\n",
      "\n",
      "We have 12 Categorical Feature which are : ['Current Loan Amount', 'Credit Score', 'Annual Income', 'Monthly Debt', 'Years of Credit History', 'Months since last delinquent', 'Number of Open Accounts', 'Number of Credit Problems', 'Current Credit Balance', 'Maximum Open Credit', 'Bankruptcies', 'Tax Liens']\n"
     ]
    }
   ],
   "source": [
    "categorical_features = [feature for feature in df_duplicates_removed.columns if df_duplicates_removed[feature].dtype =='O' ]\n",
    "numerical_features = [feature for feature in df_duplicates_removed.columns if df_duplicates_removed[feature].dtype !='O' ]\n",
    "\n",
    "print(f'We have {len(categorical_features)} Categorical Feature which are : {categorical_features}')\n",
    "print(f'\\nWe have {len(numerical_features)} Categorical Feature which are : {numerical_features}')"
   ]
  },
  {
   "cell_type": "code",
   "execution_count": 140,
   "metadata": {},
   "outputs": [
    {
     "name": "stdout",
     "output_type": "stream",
     "text": [
      "\n",
      "Categories in Loan ID are ['6cf51492-02a2-423e-b93d-676f05b9ad53'\n",
      " '552e7ade-4292-4354-9ff9-c48031697d72'\n",
      " '9b5e32b3-8d76-4801-afc8-d729d5a2e6b9' ...\n",
      " 'd43b4c9c-8cb9-4cff-b86c-84b4f2c6aa13'\n",
      " 'e3ffa0d5-5164-4815-9231-7ae5e0887dfd'\n",
      " '26e3e4f3-7442-4b68-bc2b-a9c4567f67ce']\n",
      "\n",
      "Categories in Customer ID are ['7c202b37-2add-44e8-9aea-d5b119aea935'\n",
      " 'e7217b0a-07ac-47dd-b379-577b5a35b7c6'\n",
      " '0a62fc41-16c8-40b5-92ff-9e4b763ce714' ...\n",
      " '5dc48d5a-36e9-4e52-9568-d81f218386b0'\n",
      " '2bfeb5be-6441-4e2d-be6e-20a138127d93'\n",
      " '5514bfcc-e996-4d9b-80d4-9ea66dfa1ac5']\n",
      "\n",
      "Categories in Loan Status are ['Loan Refused' 'Loan Given']\n",
      "\n",
      "Categories in Term are ['Short Term' 'Long Term']\n",
      "\n",
      "Categories in Years in current job are ['< 1 year' '10+ years' '9 years' '3 years' '2 years' '7 years' '6 years'\n",
      " '1 year' '5 years' '4 years' '8 years' nan]\n",
      "\n",
      "Categories in Home Ownership are ['Rent' 'Home Mortgage' 'Own Home' 'HaveMortgage']\n",
      "\n",
      "Categories in Purpose are ['Debt Consolidation' 'Home Improvements' 'other' 'Business Loan'\n",
      " 'small_business' 'Other' 'moving' 'Buy a Car' 'Medical Bills' 'Buy House'\n",
      " 'Take a Trip' 'vacation' 'major_purchase' 'Educational Expenses'\n",
      " 'wedding' 'renewable_energy']\n"
     ]
    }
   ],
   "source": [
    "for feature in categorical_features:\n",
    "    unique_category = df_duplicates_removed[feature].unique()\n",
    "    print(f'\\nCategories in {feature} are {unique_category}')"
   ]
  },
  {
   "cell_type": "markdown",
   "metadata": {},
   "source": [
    "<h3>4 Exploratory Data Analysis(EDA)"
   ]
  },
  {
   "cell_type": "markdown",
   "metadata": {},
   "source": [
    "<h4>4.1 Visualisation of Loan Status(Target Feature)"
   ]
  },
  {
   "cell_type": "code",
   "execution_count": 141,
   "metadata": {},
   "outputs": [
    {
     "data": {
      "image/png": "[encoded data removed]",
      "text/plain": [
       "<Figure size 1000x500 with 2 Axes>"
      ]
     },
     "metadata": {},
     "output_type": "display_data"
    }
   ],
   "source": [
    "status = df_duplicates_removed['Loan Status'].value_counts()\n",
    "f,ax = plt.subplots(1,2,figsize = (10,5))\n",
    "sns.countplot(x=df_duplicates_removed['Loan Status'],ax=ax[0],data=df_duplicates_removed,order=df_duplicates_removed['Loan Status'].value_counts().index)\n",
    "for container in ax[0].containers:\n",
    "    ax[0].bar_label(container,color = 'black',size=10)\n",
    "plt.pie(x=df_duplicates_removed['Loan Status'].value_counts(),labels=df_duplicates_removed['Loan Status'].value_counts().index,autopct='%1.1f%%')\n",
    "plt.show()"
   ]
  },
  {
   "cell_type": "markdown",
   "metadata": {},
   "source": [
    "No. of Loans Given is 2.5 times more than no. of Loan Refused. This makes the data bias as more number of records are present for Loan Given status."
   ]
  },
  {
   "cell_type": "markdown",
   "metadata": {},
   "source": [
    "<h4>4.2 Visualisation of Numerical Categories via Histplot"
   ]
  },
  {
   "cell_type": "code",
   "execution_count": 142,
   "metadata": {},
   "outputs": [
    {
     "data": {
      "image/png": "[encoded data removed]",
      "text/plain": [
       "<Figure size 1500x1000 with 12 Axes>"
      ]
     },
     "metadata": {},
     "output_type": "display_data"
    }
   ],
   "source": [
    "plt.rc('font', size=14)\n",
    "plt.rc('axes', labelsize=14, titlesize=14)\n",
    "plt.rc('legend', fontsize=14)\n",
    "plt.rc('xtick', labelsize=10)\n",
    "plt.rc('ytick', labelsize=10)\n",
    "\n",
    "df_duplicates_removed.hist(bins=100, figsize=(15, 10), )\n",
    "plt.show()"
   ]
  },
  {
   "cell_type": "markdown",
   "metadata": {},
   "source": [
    "Number of Open Accounts, Monthly Debt, Years of Credit History have as good distribution. Which can be converted to nornal distribution easily"
   ]
  },
  {
   "cell_type": "markdown",
   "metadata": {},
   "source": [
    "<h4>4.3 Featurewise Analysis"
   ]
  },
  {
   "cell_type": "markdown",
   "metadata": {},
   "source": [
    "<h5>4.3.1 Current Loan Amount\n",
    "\n",
    "- How is Current Loan Amount Distributed?\n",
    "- Does Current Loan Amount have any impact on Loan Status?"
   ]
  },
  {
   "cell_type": "markdown",
   "metadata": {},
   "source": [
    "Univatriate Analysis"
   ]
  },
  {
   "cell_type": "code",
   "execution_count": 143,
   "metadata": {},
   "outputs": [
    {
     "data": {
      "image/png": "[encoded data removed]",
      "text/plain": [
       "<Figure size 500x500 with 1 Axes>"
      ]
     },
     "metadata": {},
     "output_type": "display_data"
    }
   ],
   "source": [
    "plt.rc('font', size=14)\n",
    "plt.rc('axes', labelsize=14, titlesize=14)\n",
    "plt.rc('legend', fontsize=14)\n",
    "plt.rc('xtick', labelsize=10)\n",
    "plt.rc('ytick', labelsize=10)\n",
    "\n",
    "df_duplicates_removed['Current Loan Amount'].hist(bins=50, figsize=(5, 5), )\n",
    "plt.show()"
   ]
  },
  {
   "cell_type": "markdown",
   "metadata": {},
   "source": [
    "It seems there is are outliers in the current loan amount which is  making the plot very skewed. Lets correct the outliers first"
   ]
  },
  {
   "cell_type": "code",
   "execution_count": 144,
   "metadata": {},
   "outputs": [
    {
     "data": {
      "text/plain": [
       "6623            1\n",
       "11000           1\n",
       "3798            1\n",
       "10517           1\n",
       "18613           1\n",
       "            ...  \n",
       "10096          22\n",
       "10156          23\n",
       "8066           23\n",
       "10151          25\n",
       "99999999    12738\n",
       "Name: Current Loan Amount, Length: 22081, dtype: int64"
      ]
     },
     "execution_count": 144,
     "metadata": {},
     "output_type": "execute_result"
    }
   ],
   "source": [
    "df_duplicates_removed['Current Loan Amount'].value_counts().sort_values()"
   ]
  },
  {
   "cell_type": "code",
   "execution_count": 145,
   "metadata": {},
   "outputs": [
    {
     "name": "stdout",
     "output_type": "stream",
     "text": [
      "16202.0\n"
     ]
    }
   ],
   "source": [
    "Q1 = df_duplicates_removed['Current Loan Amount'].quantile(0.25)\n",
    "Q3 = df_duplicates_removed['Current Loan Amount'].quantile(0.75)\n",
    "IQR = Q3 - Q1\n",
    "print(IQR)\n",
    "outliers = df_duplicates_removed[\"Current Loan Amount\"][\n",
    "    (df_duplicates_removed[\"Current Loan Amount\"] < (Q1 - 1.5 * IQR)) |\n",
    "    (df_duplicates_removed[\"Current Loan Amount\"] > (Q3 + 1.5 * IQR))\n",
    "]"
   ]
  },
  {
   "cell_type": "code",
   "execution_count": 146,
   "metadata": {},
   "outputs": [
    {
     "data": {
      "text/plain": [
       "99999999"
      ]
     },
     "execution_count": 146,
     "metadata": {},
     "output_type": "execute_result"
    }
   ],
   "source": [
    "outliers.min()"
   ]
  },
  {
   "cell_type": "code",
   "execution_count": 147,
   "metadata": {},
   "outputs": [
    {
     "data": {
      "text/plain": [
       "99999999    12738\n",
       "Name: Current Loan Amount, dtype: int64"
      ]
     },
     "execution_count": 147,
     "metadata": {},
     "output_type": "execute_result"
    }
   ],
   "source": [
    "outliers.value_counts()"
   ]
  },
  {
   "cell_type": "markdown",
   "metadata": {},
   "source": [
    "There are 12738 loans which have outliers."
   ]
  },
  {
   "cell_type": "code",
   "execution_count": 148,
   "metadata": {},
   "outputs": [
    {
     "name": "stdout",
     "output_type": "stream",
     "text": [
      "Years of Credit History  Current Loan Amount\n",
      "3.8                      99999999               2\n",
      "4.0                      99999999               1\n",
      "4.2                      99999999               4\n",
      "4.4                      99999999               1\n",
      "4.5                      99999999               2\n",
      "                                               ..\n",
      "52.9                     99999999               1\n",
      "53.1                     99999999               1\n",
      "55.8                     99999999               1\n",
      "57.7                     99999999               1\n",
      "59.5                     99999999               1\n",
      "Name: Current Loan Amount, Length: 431, dtype: int64\n"
     ]
    }
   ],
   "source": [
    "filtered_df = df_duplicates_removed[df_duplicates_removed[\"Current Loan Amount\"] > (Q3 + 1.5 * IQR)]\n",
    "\n",
    "#to Understand if these are new to credit of have credit history\n",
    "grouped_df = filtered_df.groupby('Years of Credit History')['Current Loan Amount'].value_counts()  \n",
    "\n",
    "print(grouped_df)\n"
   ]
  },
  {
   "cell_type": "markdown",
   "metadata": {},
   "source": [
    "All these loan have atleast 3.8 Years of credit history. That means they are not new to credit"
   ]
  },
  {
   "cell_type": "markdown",
   "metadata": {},
   "source": [
    "Let check what is the porpose of taking these loans."
   ]
  },
  {
   "cell_type": "code",
   "execution_count": 149,
   "metadata": {},
   "outputs": [
    {
     "name": "stdout",
     "output_type": "stream",
     "text": [
      "Purpose               Current Loan Amount\n",
      "Debt Consolidation    99999999               10047\n",
      "Home Improvements     99999999                 779\n",
      "other                 99999999                 693\n",
      "Other                 99999999                 436\n",
      "Buy a Car             99999999                 202\n",
      "Medical Bills         99999999                 145\n",
      "Business Loan         99999999                 138\n",
      "Buy House             99999999                  79\n",
      "Take a Trip           99999999                  68\n",
      "major_purchase        99999999                  54\n",
      "small_business        99999999                  30\n",
      "moving                99999999                  22\n",
      "wedding               99999999                  22\n",
      "Educational Expenses  99999999                  15\n",
      "vacation              99999999                   8\n",
      "Name: Current Loan Amount, dtype: int64\n"
     ]
    }
   ],
   "source": [
    "filtered_df_1 = df_duplicates_removed[df_duplicates_removed[\"Current Loan Amount\"] > (Q3 + 1.5 * IQR)]\n",
    "\n",
    "#to Understand if they have any credit balance\n",
    "grouped_df_1 = filtered_df_1.groupby('Purpose')['Current Loan Amount'].value_counts().sort_values(ascending=False)  \n",
    "\n",
    "print(grouped_df_1)\n"
   ]
  },
  {
   "cell_type": "markdown",
   "metadata": {},
   "source": [
    "For 78% of the percent of the outlier cases the purpose of taking a new loan is \"Debt Consolidation\". This is the act of using a new loan to pay off older debts and liabilities. Hence for these cases we can impute median current loan amount."
   ]
  },
  {
   "cell_type": "code",
   "execution_count": 150,
   "metadata": {},
   "outputs": [
    {
     "data": {
      "text/plain": [
       "14355.0"
      ]
     },
     "execution_count": 150,
     "metadata": {},
     "output_type": "execute_result"
    }
   ],
   "source": [
    "current_loan_amount_median = df_duplicates_removed['Current Loan Amount'].median()\n",
    "current_loan_amount_median"
   ]
  },
  {
   "cell_type": "code",
   "execution_count": 157,
   "metadata": {},
   "outputs": [],
   "source": [
    "df_cla_debt_index = df_duplicates_removed[(df_duplicates_removed['Current Loan Amount']>9999998) & (df_duplicates_removed['Purpose'] == 'Debt Consolidation')].index\n"
   ]
  },
  {
   "cell_type": "code",
   "execution_count": 159,
   "metadata": {},
   "outputs": [],
   "source": [
    "#df_duplicates_removed.loc[df_cla_debt_index,'Current Loan Amount'] = current_loan_amount_median"
   ]
  },
  {
   "cell_type": "code",
   "execution_count": 161,
   "metadata": {},
   "outputs": [
    {
     "name": "stdout",
     "output_type": "stream",
     "text": [
      "10687.25\n"
     ]
    }
   ],
   "source": [
    "Q1 = df_duplicates_removed['Current Loan Amount'].quantile(0.25)\n",
    "Q3 = df_duplicates_removed['Current Loan Amount'].quantile(0.75)\n",
    "IQR = Q3 - Q1\n",
    "print(IQR)\n",
    "outliers = df_duplicates_removed[\"Current Loan Amount\"][\n",
    "    (df_duplicates_removed[\"Current Loan Amount\"] < (Q1 - 1.5 * IQR)) |\n",
    "    (df_duplicates_removed[\"Current Loan Amount\"] > (Q3 + 1.5 * IQR))\n",
    "]\n"
   ]
  },
  {
   "cell_type": "code",
   "execution_count": 160,
   "metadata": {},
   "outputs": [
    {
     "data": {
      "text/plain": [
       "<Axes: >"
      ]
     },
     "execution_count": 160,
     "metadata": {},
     "output_type": "execute_result"
    },
    {
     "data": {
      "image/png": "[encoded data removed]",
      "text/plain": [
       "<Figure size 640x480 with 1 Axes>"
      ]
     },
     "metadata": {},
     "output_type": "display_data"
    }
   ],
   "source": [
    "sns.boxplot(data=df_duplicates_removed['Current Loan Amount'])"
   ]
  },
  {
   "cell_type": "code",
   "execution_count": null,
   "metadata": {},
   "outputs": [],
   "source": []
  }
 ],
 "metadata": {
  "kernelspec": {
   "display_name": "venvLP",
   "language": "python",
   "name": "python3"
  },
  "language_info": {
   "codemirror_mode": {
    "name": "ipython",
    "version": 3
   },
   "file_extension": ".py",
   "mimetype": "text/x-python",
   "name": "python",
   "nbconvert_exporter": "python",
   "pygments_lexer": "ipython3",
   "version": "3.8.18"
  }
 },
 "nbformat": 4,
 "nbformat_minor": 2
}
